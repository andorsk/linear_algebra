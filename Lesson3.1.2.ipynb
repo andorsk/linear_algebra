{
 "cells": [
  {
   "cell_type": "markdown",
   "metadata": {},
   "source": [
    "### G.3\n",
    "Here's a curve shown together with a perpendicular frame: Your job to use the matrix maker ingredients to come up with a matrix A that picks up the curve and flips it over the plotted line to get its mirror image with respect to the plotted line.\n",
    "Plot to confirm\n"
   ]
  },
  {
   "cell_type": "code",
   "execution_count": 10,
   "metadata": {
    "collapsed": false
   },
   "outputs": [
    {
     "data": {
      "image/png": "[encoded data removed]",
      "text/plain": [
       "<matplotlib.figure.Figure at 0x113dc0da0>"
      ]
     },
     "metadata": {},
     "output_type": "display_data"
    }
   ],
   "source": [
    "import numpy as np\n",
    "import scipy as scp\n",
    "import matplotlib.pyplot as plt\n",
    "import math\n",
    "from matrixoperations import *\n",
    "\n",
    "\n",
    "s = Helper.generateRandomBetween(-10,10)\n",
    "perpframes = PerpFrames(s)\n",
    "s = Helper.generateRandomBetween(-1.5,1.5)\n",
    "perpframes2 = PerpFrames(s)\n",
    "pa = -1 * perpframes.aligner\n",
    "#get stretcher matrix\n",
    "stretcher = Stretcher()\n",
    "stretcher.setXYStretch(1, 1)\n",
    "stretchMat = stretcher.getStretchMatrix()\n",
    "\n",
    "ax = plt.gca()\n",
    "#setup   \n",
    "\n",
    "circle = ShapeGenerator.generateCircle(xorigin = 2, yorigin = 2)\n",
    "\n",
    "Helper.drawVector(ax, 3 * perpframes.aligner[0,0], 3 * perpframes.aligner[0,1], 'blue')\n",
    "Helper.drawVector(ax, - 3 * perpframes.aligner[0,0],-3* perpframes.aligner[0,1], 'blue')\n",
    "\n",
    "Helper.drawVector(ax, perpframes.aligner[0,0], perpframes.aligner[0,1], 'orange')\n",
    "Helper.drawVector(ax, perpframes.aligner[1,0], perpframes.aligner[1,1], 'orange')\n",
    "\n",
    "Helper.drawVector(ax, pa[0,0], pa[0,1], 'green')\n",
    "Helper.drawVector(ax, pa[1,0], pa[1,1], 'green')\n",
    "\n",
    "plt.plot(circle[0,], circle[1,],  color = 'pink')\n",
    "\n",
    "hanger = perpframes.hanger\n",
    "inverted_aligner = np.array([perpframes.aligner[0], -1 * perpframes.aligner[1]])\n",
    "#inverted across hanger\n",
    "\n",
    "hanger = inverted_aligner.transpose()\n",
    "A = hanger.dot(stretchMat.dot(perpframes.aligner))\n",
    "\n",
    "line = A.dot(circle)\n",
    "plt.plot(line[0,], line[1,],  color = 'red')\n",
    "plt.draw()\n",
    "\n",
    "ax.set_aspect('equal')\n",
    "ax.grid(True, which='both')\n",
    "#show the graph\n",
    "\n",
    "plt.show()"
   ]
  },
  {
   "cell_type": "markdown",
   "metadata": {
    "collapsed": true
   },
   "source": [
    "The results of this cell show a reflection across the perpindecular frame in both the x and y direction. If we want to demonstrate no inversion in one particular axis, we will have to set a part of the perp frame = 0."
   ]
  },
  {
   "cell_type": "markdown",
   "metadata": {},
   "source": [
    "If we want to invert specifically over the first perpframe, we must first multiply perpframe[1] (which is 2) by -1. Then we do the same hanger.stretcher.aligner (in this case the stretcher is 1) to create the appropriate transform. \n",
    "\n",
    "The most important line is `inverted_aligner = np.array([perpframes.aligner[0], -1 * perpframes.aligner[1]])` which is the line to create the inverted aligner. This is what will eventually be the hung perp frame.\n",
    "\n",
    "There is another way of creating this effect. If you use the ystretch factor and multiply it by -1, then you would be able to accomplish the same task. "
   ]
  },
  {
   "cell_type": "code",
   "execution_count": 11,
   "metadata": {
    "collapsed": false
   },
   "outputs": [
    {
     "data": {
      "image/png": "[encoded data removed]",
      "text/plain": [
       "<matplotlib.figure.Figure at 0x113efa860>"
      ]
     },
     "metadata": {},
     "output_type": "display_data"
    }
   ],
   "source": [
    "#Alternative solution 1: Rotate across multiple axis \n",
    "\n",
    "import numpy as np\n",
    "import scipy as scp\n",
    "import matplotlib.pyplot as plt\n",
    "import math\n",
    "\n",
    "from matrixoperations import *\n",
    "ax = plt.gca()\n",
    "#setup   \n",
    "s = Helper.generateRandomBetween(-10,10)\n",
    "perpframes = PerpFrames(s)\n",
    "s = Helper.generateRandomBetween(-1.5,1.5)\n",
    "perpframes2 = PerpFrames(s)\n",
    "\n",
    "#get stretcher matrix\n",
    "stretcher = Stretcher()\n",
    "stretcher.setXYStretch(1, 1)\n",
    "stretchMat = stretcher.getStretchMatrix()\n",
    "\n",
    "lim = 0\n",
    "if(max(plt.ylim() > max(plt.xlim()))):\n",
    "\tlim = max(plt.ylim())\n",
    "\n",
    "circle = ShapeGenerator.generateCircle(xorigin = 2, yorigin = 2)\n",
    "\n",
    "# drawVector(ax, 0, 1, 'orange')\n",
    "Helper.drawVector(ax, 3 * perpframes.aligner[0,0], 3 * perpframes.aligner[0,1], 'blue')\n",
    "Helper.drawVector(ax, - 3 * perpframes.aligner[0,0],-3* perpframes.aligner[0,1], 'blue')\n",
    "\n",
    "Helper.drawVector(ax, perpframes.aligner[0,0], perpframes.aligner[0,1], 'orange')\n",
    "Helper.drawVector(ax, perpframes.aligner[1,0], perpframes.aligner[1,1], 'orange')\n",
    "\n",
    "# create an inverted perp frame\n",
    "pa = -1 * perpframes.aligner\n",
    "Helper.drawVector(ax, pa[0,0], pa[0,1], 'green')\n",
    "Helper.drawVector(ax, pa[1,0], pa[1,1], 'green')\n",
    "\n",
    "plt.plot(line[0,], line[1,],  color = 'pink')\n",
    "\n",
    "A = perpframes.aligner.dot(stretchMat.dot(pa.transpose())) \n",
    "line = A.dot(line)\n",
    "plt.plot(line[0,], line[1,],  color = 'yellow')\n",
    "\n",
    "plt.draw()\n",
    "\n",
    "ax.set_aspect('equal')\n",
    "ax.grid(True, which='both')\n",
    "#show the graph\n",
    "\n",
    "plt.show()"
   ]
  },
  {
   "cell_type": "markdown",
   "metadata": {
    "collapsed": true
   },
   "source": [
    "### G4"
   ]
  },
  {
   "cell_type": "markdown",
   "metadata": {
    "collapsed": true
   },
   "source": [
    "To get the point on the line closest to the given point, make a matrix \n",
    "A = hanger . stretcher . aligner \n",
    "that preserves lengths in the direction of perpframe[1] but zeroes out all lengths in the direction of perpframe[2]: \n",
    "This means you want\n",
    "\n",
    "A.perpframe[1] = 1.0 perpframe[1]\n",
    "A.perpframe[2] = 0.0 perpframe[2]"
   ]
  },
  {
   "cell_type": "code",
   "execution_count": 12,
   "metadata": {
    "collapsed": false
   },
   "outputs": [
    {
     "name": "stdout",
     "output_type": "stream",
     "text": [
      "[ 1.49870258  1.08887116]\n"
     ]
    },
    {
     "data": {
      "image/png": "[encoded data removed]",
      "text/plain": [
       "<matplotlib.figure.Figure at 0x113cfe908>"
      ]
     },
     "metadata": {},
     "output_type": "display_data"
    }
   ],
   "source": [
    "import numpy as np\n",
    "import scipy as scp\n",
    "import matplotlib.pyplot as plt\n",
    "import math\n",
    "from matrixoperations import *\n",
    "\n",
    "#get unit vector from line directionvector/Sqrt[directionvector . directionvector]\n",
    "# ax = plt.gca()\n",
    "perpframes = PerpFrames(.2 * math.pi)\n",
    "pf = PerpFrames.createPerpFrame(perpframes.aligner[0])\n",
    "\n",
    "fig = plt.figure()\n",
    "subplt = fig.add_subplot(111,aspect='equal')\n",
    "\n",
    "point = [1.2, 1.5]\n",
    "#draw point and vector\n",
    "subplt.plot(point[0],point[1],'ro', color = 'blue')\n",
    "Helper.drawVector(subplt,pf[0][0], pf[0][1], 'orange')\n",
    "Helper.drawVector(subplt,pf[1][0], pf[1][1], 'yellow')\n",
    "\n",
    "#draw axis\n",
    "Helper.drawVector(subplt,0, 1, 'red')\n",
    "Helper.drawVector(subplt,1, 0, 'red')\n",
    "Helper.drawVector(subplt,0, -1, 'red')\n",
    "Helper.drawVector(subplt,-1, 0, 'red')\n",
    "\n",
    "#Create stretcher direction 1 perp 0 perp2\n",
    "stretcher = Stretcher()\n",
    "stretcher.setXYStretch(1, 0)\n",
    "stretchMat = stretcher.getStretchMatrix()\n",
    "\n",
    "\n",
    "A = (pf.transpose()).dot(stretchMat.dot(pf))\n",
    "\n",
    "closestpoint = A.dot(point)\n",
    "print(closestpoint)\n",
    "subplt.plot(closestpoint[0], closestpoint[1] ,'ro', color = 'green')\n",
    "\n",
    "subplt.set_xlim([-2, 2])\n",
    "subplt.set_ylim([-2, 2])\n",
    "plt.show()\n",
    "\n"
   ]
  },
  {
   "cell_type": "markdown",
   "metadata": {},
   "source": [
    "In this problem, we changed the line to a unit vector. We then \"zero\" out the y direction so the point will end up on the line. Then we hang, stretch, and align (HSA) to get the closest point. "
   ]
  },
  {
   "cell_type": "markdown",
   "metadata": {},
   "source": [
    "### G.3.e \n",
    "\n",
    "Make a matrix A whose action is described as follows:\n",
    "The hit by A rotates everything Pi/4 counterclockwise radians, then stretches by a factor of 1.8 along the x-axis and a factor of 0.7 along the y-axis and then rotates the result by Pi/3 clockwise radians."
   ]
  },
  {
   "cell_type": "code",
   "execution_count": 13,
   "metadata": {
    "collapsed": false,
    "scrolled": true
   },
   "outputs": [
    {
     "name": "stdout",
     "output_type": "stream",
     "text": [
      "[[ 1.06505681  0.2077354 ]\n",
      " [ 0.85478301  1.34975776]]\n"
     ]
    },
    {
     "data": {
      "image/png": "[encoded data removed]",
      "text/plain": [
       "<matplotlib.figure.Figure at 0x113c53908>"
      ]
     },
     "metadata": {},
     "output_type": "display_data"
    }
   ],
   "source": [
    "import numpy as np\n",
    "import scipy as scp\n",
    "import matplotlib.pyplot as plt\n",
    "import math\n",
    "from matrixoperations import *\n",
    "\n",
    "#get unit vector from line directionvector/Sqrt[directionvector . directionvector]\n",
    "# ax = plt.gca()\n",
    "aligner_perp = PerpFrames(math.pi * (1/4))\n",
    "hanger_perp = PerpFrames(math.pi * (1/3))\n",
    "\n",
    "circle = ShapeGenerator.generateCircle(xorigin = 0, yorigin = 0)\n",
    "circle = np.array(circle).transpose()\n",
    "\n",
    "\n",
    "fig = plt.figure()\n",
    "subplt = fig.add_subplot(111,aspect='equal')\n",
    "\n",
    "subplt.plot(circle[:,0], circle[:,1],  color = 'pink')\n",
    "\n",
    "#draw point \n",
    "Helper.drawVector(subplt,aligner_perp.aligner[0][0], aligner_perp.aligner[0][1], 'orange')\n",
    "Helper.drawVector(subplt,aligner_perp.aligner[1][0], aligner_perp.aligner[1][1], 'orange')\n",
    "Helper.drawVector(subplt,hanger_perp.aligner[0][0], hanger_perp.aligner[0][1], 'orange')\n",
    "Helper.drawVector(subplt,hanger_perp.aligner[1][0], hanger_perp.aligner[1][1], 'orange')\n",
    "\n",
    "#draw axis\n",
    "Helper.drawVector(subplt,0, 1, 'red')\n",
    "Helper.drawVector(subplt,1, 0, 'red')\n",
    "Helper.drawVector(subplt,0, -1, 'red')\n",
    "Helper.drawVector(subplt,-1, 0, 'red')\n",
    "\n",
    "#Create stretcher direction 1 perp 0 perp2\n",
    "s = Stretcher(1.8, .7)\n",
    "A = (hanger_perp.hanger).dot(s.mat.dot(aligner_perp.aligner))\n",
    "\n",
    "circle = circle.dot(A)\n",
    "subplt.plot(circle[:,0], circle[:,1],  color = 'green')\n",
    "\n",
    "print(A)\n",
    "lim = 4\n",
    "subplt.set_xlim([-1 * lim, lim])\n",
    "subplt.set_ylim([-1 * lim, lim])\n",
    "plt.show()"
   ]
  },
  {
   "cell_type": "code",
   "execution_count": null,
   "metadata": {
    "collapsed": true
   },
   "outputs": [],
   "source": []
  }
 ],
 "metadata": {
  "kernelspec": {
   "display_name": "Python 3",
   "language": "python",
   "name": "python3"
  },
  "language_info": {
   "codemirror_mode": {
    "name": "ipython",
    "version": 3
   },
   "file_extension": ".py",
   "mimetype": "text/x-python",
   "name": "python",
   "nbconvert_exporter": "python",
   "pygments_lexer": "ipython3",
   "version": "3.6.0"
  }
 },
 "nbformat": 4,
 "nbformat_minor": 2
}
