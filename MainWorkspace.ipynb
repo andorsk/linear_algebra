{
 "cells": [
  {
   "cell_type": "code",
   "execution_count": 127,
   "metadata": {
    "collapsed": false
   },
   "outputs": [
    {
     "ename": "ValueError",
     "evalue": "shapes (2,2) and (100,2) not aligned: 2 (dim 1) != 100 (dim 0)",
     "output_type": "error",
     "traceback": [
      "\u001b[0;31m---------------------------------------------------------------------------\u001b[0m",
      "\u001b[0;31mValueError\u001b[0m                                Traceback (most recent call last)",
      "\u001b[0;32m<ipython-input-127-c552f69d3f19>\u001b[0m in \u001b[0;36m<module>\u001b[0;34m()\u001b[0m\n\u001b[1;32m     32\u001b[0m \u001b[0;34m\u001b[0m\u001b[0m\n\u001b[1;32m     33\u001b[0m \u001b[0;31m# #stretch the circle\u001b[0m\u001b[0;34m\u001b[0m\u001b[0;34m\u001b[0m\u001b[0m\n\u001b[0;32m---> 34\u001b[0;31m \u001b[0mstretched\u001b[0m \u001b[0;34m=\u001b[0m \u001b[0mstretchMat\u001b[0m\u001b[0;34m.\u001b[0m\u001b[0mdot\u001b[0m\u001b[0;34m(\u001b[0m\u001b[0mcircle\u001b[0m\u001b[0;34m.\u001b[0m\u001b[0mtranspose\u001b[0m\u001b[0;34m(\u001b[0m\u001b[0;34m)\u001b[0m\u001b[0;34m)\u001b[0m\u001b[0;34m\u001b[0m\u001b[0m\n\u001b[0m\u001b[1;32m     35\u001b[0m \u001b[0mplt\u001b[0m\u001b[0;34m.\u001b[0m\u001b[0mplot\u001b[0m\u001b[0;34m(\u001b[0m\u001b[0mstretched\u001b[0m\u001b[0;34m[\u001b[0m\u001b[0;36m0\u001b[0m\u001b[0;34m,\u001b[0m\u001b[0;34m]\u001b[0m\u001b[0;34m,\u001b[0m \u001b[0mstretched\u001b[0m\u001b[0;34m[\u001b[0m\u001b[0;36m1\u001b[0m\u001b[0;34m,\u001b[0m\u001b[0;34m]\u001b[0m\u001b[0;34m,\u001b[0m \u001b[0;34m'ro'\u001b[0m\u001b[0;34m,\u001b[0m \u001b[0mcolor\u001b[0m \u001b[0;34m=\u001b[0m \u001b[0;34m'blue'\u001b[0m\u001b[0;34m)\u001b[0m\u001b[0;34m\u001b[0m\u001b[0m\n\u001b[1;32m     36\u001b[0m \u001b[0;34m\u001b[0m\u001b[0m\n",
      "\u001b[0;31mValueError\u001b[0m: shapes (2,2) and (100,2) not aligned: 2 (dim 1) != 100 (dim 0)"
     ]
    }
   ],
   "source": [
    "import numpy as np\n",
    "import scipy as scp\n",
    "import matplotlib.pyplot as plt\n",
    "import math\n",
    "\n",
    "from matrixoperations import *\n",
    "\n",
    "\n",
    "#setup   \n",
    "s = Helper.generateRandomBetween(-10,10)\n",
    "perpframes = PerpFrames(s)\n",
    "s = Helper.generateRandomBetween(-1.5,1.5)\n",
    "perpframes2 = PerpFrames(s)\n",
    "\n",
    "#get stretcher matrix\n",
    "stretcher = Stretcher()\n",
    "stretcher.setXYStretch(Helper.generateRandomBetween(2.2, 2.7), Helper.generateRandomBetween(.6, 1.6))\n",
    "stretchMat = stretcher.getStretchMatrix()\n",
    "\n",
    "#generate points\n",
    "x = np.linspace( -math.pi, math.pi, 100)\n",
    " \n",
    "circle = []\n",
    "for val in x:\n",
    "    point = ShapeGenerator.generateCircle(val)\n",
    "    circle.append(point)\n",
    "circle = np.array(circle).transpose()\n",
    "\n",
    "#draw a circle\n",
    "plt.figure(figsize=(8,8))\n",
    "plt.plot(circle[:,0], circle[:,1], 'ro', color = 'purple')\n",
    "\n",
    "# #stretch the circle\n",
    "stretched = stretchMat.dot(circle.transpose())\n",
    "plt.plot(stretched[0,], stretched[1,], 'ro', color = 'blue')\n",
    "\n",
    "#hang it\n",
    "hung = perpframes2.hanger.dot(stretched)\n",
    "plt.plot(hung[0,], hung[1,], 'ro', color = 'green')\n",
    "\n",
    "#align it\n",
    "aligned = perpframes.aligner.dot(stretched)\n",
    "plt.plot(aligned[0,], aligned[1,], 'ro', color = 'orange')\n",
    "\n",
    "\n",
    "#rescale graph to make sure x and y are the same height and width\n",
    "ax = plt.gca()\n",
    "\n",
    "lim = 0\n",
    "if(max(plt.ylim() > max(plt.xlim()))):\n",
    "\tlim = max(plt.ylim())\n",
    "\n",
    "#draw perp frames\n",
    "def drawVector(ax, dim1, dim2, col = 'blue'):\n",
    "    soa = np.array([[0, 0, dim1, dim2]])\n",
    "    X, Y, U, V = zip(*soa)\n",
    "    ax.quiver(X, Y, U, V, angles='xy', scale_units='xy', scale=1, color = col) \n",
    "\n",
    "\n",
    "#draw vecotrs\n",
    "#curtosy of https://stackoverflow.com/questions/12265234/how-to-plot-2d-math-vectors-with-matplotlib\n",
    "drawVector(ax, perpframes.aligner[0,0], perpframes.aligner[0,1], 'orange')\n",
    "drawVector(ax, perpframes.aligner[1,0], perpframes.aligner[1,1], 'orange')\n",
    "drawVector(ax, perpframes.hanger[0,0], perpframes.hanger[0,1], 'green')\n",
    "drawVector(ax, perpframes.hanger[1,0], perpframes.hanger[1,1], 'green')\n",
    "\n",
    "\n",
    "plt.draw()\n",
    "ax.set_ylim(-1 * lim, lim)\n",
    "ax.set_xlim(-1 * lim, lim)\n",
    "#show the graph\n",
    "plt.show()"
   ]
  },
  {
   "cell_type": "code",
   "execution_count": 222,
   "metadata": {
    "collapsed": false
   },
   "outputs": [
    {
     "name": "stdout",
     "output_type": "stream",
     "text": [
      "Equality matrix\n",
      "[-0.88464638 -1.09585091] || [-0.88464638  1.09585091]\n",
      "[ 1.50788334 -1.21726736] || [-1.50788334 -1.21726736]\n"
     ]
    }
   ],
   "source": [
    "A = perpframes2.hanger.dot(stretcher.getStretchMatrix().dot(perpframes.aligner))\n",
    "print('Equality matrix')\n",
    "print(stretcher.xstretch * perpframes2.hanger[0], \"||\", A.dot(perpframes.aligner[0]))\n",
    "print(stretcher.ystretch * perpframes2.hanger[1], \"||\", A.dot(perpframes.aligner[1]))"
   ]
  },
  {
   "cell_type": "code",
   "execution_count": 264,
   "metadata": {
    "collapsed": false
   },
   "outputs": [
    {
     "name": "stdout",
     "output_type": "stream",
     "text": [
      "----------------------\n",
      "Apply \n",
      "  [[ 1.40836374  0.        ]\n",
      " [ 0.          1.93789885]]  to \n",
      " [[-0.51311081 -0.85832237]\n",
      " [ 0.85832237 -0.51311081]]\n",
      "Got: \n",
      "[[-0.72264666 -1.20883011]\n",
      " [ 1.66334194 -0.99435685]]\n",
      "Apply  [[-0.62813771 -0.77810219]\n",
      " [ 0.77810219 -0.62813771]]  to that.\n",
      "Got  [[-0.84032838  1.53302302]\n",
      " [-1.60710075 -0.31600031]]\n"
     ]
    },
    {
     "data": {
      "image/png": "[encoded data removed]",
      "text/plain": [
       "<matplotlib.figure.Figure at 0x1171d6b00>"
      ]
     },
     "metadata": {},
     "output_type": "display_data"
    },
    {
     "name": "stdout",
     "output_type": "stream",
     "text": [
      "-0.513110809441\n"
     ]
    }
   ],
   "source": [
    "plt.gcf().clear() \n",
    "ax = plt.gca()\n",
    "\n",
    "drawVector(ax, perpframes.aligner[0,0], perpframes.aligner[0,1], 'orange')\n",
    "drawVector(ax, perpframes.aligner[1,0], perpframes.aligner[1,1], 'orange')\n",
    "drawVector(ax, perpframes.hanger[0,0], perpframes.hanger[0,1], 'blue')\n",
    "drawVector(ax, perpframes.hanger[1,0], perpframes.hanger[1,1], 'blue')\n",
    "\n",
    "print(\"----------------------\")\n",
    "print(\"Apply \\n \" , stretcher.getStretchMatrix() , \" to \\n\", perpframes.aligner)\n",
    "print(\"Got: \")\n",
    "print(stretcher.getStretchMatrix().dot(perpframes.aligner))\n",
    "print(\"Apply \", perpframes2.hanger ,\" to that.\")\n",
    "print(\"Got \", A)\n",
    "p = stretcher.getStretchMatrix().dot(perpframes.aligner)\n",
    "drawVector(ax, p[0,0], p[0,1], 'green')\n",
    "drawVector(ax, p[1,0], p[1,1], 'green')\n",
    "p = A\n",
    "drawVector(ax, p[0,0], p[0,1], 'purple')\n",
    "drawVector(ax, p[1,0], p[1,1], 'purple')\n",
    "\n",
    "p = perpframes2.hanger.dot(perpframes.aligner)\n",
    "drawVector(ax, p[0,0], p[0,1], 'pink')\n",
    "drawVector(ax, p[1,0], p[1,1], 'pink')\n",
    "\n",
    "p = perpframes.aligner.dot(perpframes2.hanger)\n",
    "drawVector(ax, p[0,0], p[0,1], 'yellow')\n",
    "drawVector(ax, p[1,0], p[1,1], 'yellow')\n",
    "\n",
    "drawVector(ax, perpframes.aligner[0,0], perpframes.aligner[0,1], 'orange')\n",
    "drawVector(ax, perpframes.aligner[1,0], perpframes.aligner[1,1], 'orange')\n",
    "lim = 0\n",
    "if(max(plt.ylim() > max(plt.xlim()))):\n",
    "\tlim = max(plt.ylim())\n",
    "\n",
    "plt.draw()\n",
    "ax.set_ylim(-2, 2)\n",
    "ax.set_xlim(-2, 2)\n",
    "plt.show()\n",
    "\n",
    "print(perpframes.aligner[0,0])"
   ]
  },
  {
   "cell_type": "code",
   "execution_count": 435,
   "metadata": {
    "collapsed": false
   },
   "outputs": [
    {
     "name": "stdout",
     "output_type": "stream",
     "text": [
      "C is  -------------\n",
      "[[-0.37994747 -0.92500807]\n",
      " [ 0.92500807 -0.37994747]]\n",
      "C is  -------------\n",
      "[[ 0.5  0. ]\n",
      " [ 0.   1. ]]\n",
      "[[0 1]\n",
      " [1 0]]\n",
      "[[ 0.   0.5]\n",
      " [ 1.   0. ]]\n"
     ]
    },
    {
     "data": {
      "image/png": "[encoded data removed]",
      "text/plain": [
       "<matplotlib.figure.Figure at 0x116eb7278>"
      ]
     },
     "metadata": {},
     "output_type": "display_data"
    }
   ],
   "source": [
    "arr = np.array([[.5,0],[0,1]])\n",
    "arr2 = np.array([[0,1],[1,0]])\n",
    "\n",
    "B = np.array([[1,0], [0,1]])\n",
    "\n",
    "plt.gcf().clear() \n",
    "ax = plt.gca()\n",
    "# drawVector(ax, 0, 1, 'orange')\n",
    "drawVector(ax, perpframes.aligner[0,0], perpframes.aligner[0,1], 'orange')\n",
    "drawVector(ax, perpframes.aligner[1,0], perpframes.aligner[1,1], 'orange')\n",
    "\n",
    "C = B.dot(perpframes.aligner)\n",
    "print(\"C is \" , \"-------------\")\n",
    "print(C)\n",
    "print(\"C is \" , \"-------------\")\n",
    "\n",
    "drawVector(ax, C[0,0], C[0,1], 'pink')\n",
    "drawVector(ax, C[1,0], C[1,1], 'pink')\n",
    "\n",
    "stretched = stretchMat.dot(circle.transpose())\n",
    "A = perpframes.aligner.dot(stretched)\n",
    "plt.plot(A[0,], A[1,], 'ro', color = 'blue')\n",
    "\n",
    "\n",
    "A = perpframes.hanger.dot(stretched)\n",
    "plt.plot(A[0,], A[1,], 'ro', color = 'green')\n",
    "\n",
    "#print(A)\n",
    "# drawVector(ax, arr2[0,0], arr2[0,1], 'green')\n",
    "# drawVector(ax, arr2[1,0], arr2[1,1], 'green')\n",
    "\n",
    "arr3 =arr.dot(arr2)\n",
    "print(arr)\n",
    "print(arr2)\n",
    "print(arr3)\n",
    "\n",
    "# drawVector(ax, arr3[0, 0], arr3[0,1], 'purple')\n",
    "# drawVector(ax, arr3[1, 0], arr3[1,1], 'purple')\n",
    "\n",
    "\n",
    "plt.draw()\n",
    "ax.set_ylim(-2, 2)\n",
    "ax.set_xlim(-2, 2)\n",
    "plt.show()\n"
   ]
  },
  {
   "cell_type": "markdown",
   "metadata": {},
   "source": [
    "### G.3\n",
    "Here's a curve shown together with a perpendicular frame:\n"
   ]
  },
  {
   "cell_type": "code",
   "execution_count": 121,
   "metadata": {
    "collapsed": false
   },
   "outputs": [
    {
     "data": {
      "image/png": "[encoded data removed]",
      "text/plain": [
       "<matplotlib.figure.Figure at 0x117390cf8>"
      ]
     },
     "metadata": {},
     "output_type": "display_data"
    }
   ],
   "source": [
    "import numpy as np\n",
    "import scipy as scp\n",
    "import matplotlib.pyplot as plt\n",
    "import math\n",
    "\n",
    "from matrixoperations import *\n",
    "ax = plt.gca()\n",
    "#setup   \n",
    "s = Helper.generateRandomBetween(-10,10)\n",
    "perpframes = PerpFrames(s)\n",
    "s = Helper.generateRandomBetween(-1.5,1.5)\n",
    "perpframes2 = PerpFrames(s)\n",
    "\n",
    "#get stretcher matrix\n",
    "stretcher = Stretcher()\n",
    "stretcher.setXYStretch(1, 1)\n",
    "stretchMat = stretcher.getStretchMatrix()\n",
    "\n",
    "lim = 0\n",
    "if(max(plt.ylim() > max(plt.xlim()))):\n",
    "\tlim = max(plt.ylim())\n",
    "\n",
    "x = np.linspace(0, math.pi, 1000)\n",
    "\n",
    "\n",
    "circle = []\n",
    "for val in x:\n",
    "    point = ShapeGenerator.generateCircle(val, xorigin = 2, yorigin = 2)\n",
    "    circle.append(point)\n",
    "line = np.array(circle).transpose()\n",
    "\n",
    "\n",
    "# drawVector(ax, 0, 1, 'orange')\n",
    "Helper.drawVector(ax, 3 * perpframes.aligner[0,0], 3 * perpframes.aligner[0,1], 'blue')\n",
    "Helper.drawVector(ax, - 3 * perpframes.aligner[0,0],-3* perpframes.aligner[0,1], 'blue')\n",
    "\n",
    "Helper.drawVector(ax, perpframes.aligner[0,0], perpframes.aligner[0,1], 'orange')\n",
    "Helper.drawVector(ax, perpframes.aligner[1,0], perpframes.aligner[1,1], 'orange')\n",
    "\n",
    "# create an inverted perp frame\n",
    "pa = -1 * perpframes.aligner\n",
    "Helper.drawVector(ax, pa[0,0], pa[0,1], 'green')\n",
    "Helper.drawVector(ax, pa[1,0], pa[1,1], 'green')\n",
    "\n",
    "plt.plot(line[0,], line[1,],  color = 'pink')\n",
    "\n",
    "A = perpframes.aligner.dot(stretchMat.dot(pa.transpose())) \n",
    "line = A.dot(line)\n",
    "plt.plot(line[0,], line[1,],  color = 'yellow')\n",
    "\n",
    "plt.draw()\n",
    "\n",
    "ax.set_aspect('equal')\n",
    "ax.grid(True, which='both')\n",
    "#show the graph\n",
    "\n",
    "plt.show()"
   ]
  },
  {
   "cell_type": "markdown",
   "metadata": {
    "collapsed": true
   },
   "source": [
    "The results of this cell show a reflection across the perpindecular frame in both the x and y direction. If we want to demonstrate no inversion in one particular axis, we will have to set a part of the perp frame = 0."
   ]
  },
  {
   "cell_type": "code",
   "execution_count": 124,
   "metadata": {
    "collapsed": false
   },
   "outputs": [
    {
     "data": {
      "image/png": "[encoded data removed]",
      "text/plain": [
       "<matplotlib.figure.Figure at 0x116f1e550>"
      ]
     },
     "metadata": {},
     "output_type": "display_data"
    }
   ],
   "source": [
    "ax = plt.gca()\n",
    "#setup   \n",
    "\n",
    "x = np.linspace(0, math.pi, 1000)\n",
    "\n",
    "circle = []\n",
    "for val in x:\n",
    "    point = ShapeGenerator.generateCircle(val, xorigin = 2, yorigin = 2)\n",
    "    circle.append(point)\n",
    "line = np.array(circle).transpose()\n",
    "\n",
    "Helper.drawVector(ax, 3 * perpframes.aligner[0,0], 3 * perpframes.aligner[0,1], 'blue')\n",
    "Helper.drawVector(ax, - 3 * perpframes.aligner[0,0],-3* perpframes.aligner[0,1], 'blue')\n",
    "\n",
    "Helper.drawVector(ax, perpframes.aligner[0,0], perpframes.aligner[0,1], 'orange')\n",
    "Helper.drawVector(ax, perpframes.aligner[1,0], perpframes.aligner[1,1], 'orange')\n",
    "\n",
    "Helper.drawVector(ax, pa[0,0], pa[0,1], 'green')\n",
    "Helper.drawVector(ax, pa[1,0], pa[1,1], 'green')\n",
    "\n",
    "plt.plot(line[0,], line[1,],  color = 'pink')\n",
    "\n",
    "hanger = perpframes.hanger\n",
    "inverted_aligner = np.array([perpframes.aligner[0], -1 * perpframes.aligner[1]])\n",
    "#inverted across hanger\n",
    "\n",
    "hanger = inverted_aligner.transpose()\n",
    "A = hanger.dot(stretchMat.dot(perpframes.aligner))\n",
    "\n",
    "line = A.dot(line)\n",
    "plt.plot(line[0,], line[1,],  color = 'red')\n",
    "plt.draw()\n",
    "\n",
    "ax.set_aspect('equal')\n",
    "ax.grid(True, which='both')\n",
    "#show the graph\n",
    "\n",
    "plt.show()"
   ]
  },
  {
   "cell_type": "markdown",
   "metadata": {},
   "source": [
    "If we want to invert specifically over the first perpframe, we must first multiply perpframe[1] (which is 2) by -1. Then we do the same hanger.stretcher.aligner (in this case the stretcher is 1) to create the appropriate transform. \n",
    "\n",
    "The most important line is `inverted_aligner = np.array([perpframes.aligner[0], -1 * perpframes.aligner[1]])` which is the line to create the inverted aligner. This is what will eventually be the hung perp frame.\n",
    "\n",
    "There is another way of creating this effect. If you use the ystretch factor and multiply it by -1, then you would be able to accomplish the same task. "
   ]
  },
  {
   "cell_type": "code",
   "execution_count": null,
   "metadata": {
    "collapsed": true
   },
   "outputs": [],
   "source": []
  }
 ],
 "metadata": {
  "kernelspec": {
   "display_name": "Python 3",
   "language": "python",
   "name": "python3"
  },
  "language_info": {
   "codemirror_mode": {
    "name": "ipython",
    "version": 3
   },
   "file_extension": ".py",
   "mimetype": "text/x-python",
   "name": "python",
   "nbconvert_exporter": "python",
   "pygments_lexer": "ipython3",
   "version": "3.6.0"
  }
 },
 "nbformat": 4,
 "nbformat_minor": 2
}
