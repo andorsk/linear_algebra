{
 "cells": [
  {
   "cell_type": "code",
   "execution_count": 333,
   "metadata": {
    "collapsed": false
   },
   "outputs": [],
   "source": [
    "import numpy as np\n",
    "import scipy as sc\n",
    "import random as r\n",
    "import math\n",
    "import matplotlib.pyplot as plt\n",
    "\n",
    "class Helper():\n",
    "    \n",
    "    @staticmethod\n",
    "    def generateRandomBetween(a, b):\n",
    "        return (r.random() * (b - a) + 1)\n",
    "\n",
    "class PerpFrames():\n",
    "    \n",
    "    def __init__(self, s):\n",
    "        self.alignerframe(s)\n",
    "        self.alignerframe2(s)\n",
    "        self.aligner = np.array([self.alignerframe, self.alignerframe2])\n",
    "        self.hanger = np.array([self.alignerframe, self.alignerframe2]).transpose()\n",
    "\n",
    "        \n",
    "    def alignerframe(self, s):\n",
    "        self.alignerframe = np.array([math.cos(s), math.sin(s)])\n",
    "        \n",
    "    \n",
    "    def alignerframe2(self, s):\n",
    "        self.alignerframe2 = np.array([math.cos(s + (math.pi / 2)),math.sin(s + (math.pi/2))])\n",
    "        \n",
    "\n",
    "class Stretcher():\n",
    "    \n",
    "    def setXYStretch(self, xstretch, ystretch):\n",
    "        self.setXStretch(xstretch)\n",
    "        self.setYStretch(ystretch)\n",
    "        \n",
    "    def setXStretch(self, xstretch):\n",
    "        self.checkValid(xstretch)\n",
    "        self.xstretch = xstretch\n",
    "        \n",
    "    def setYStretch(self, ystretch):\n",
    "        self.checkValid(ystretch)\n",
    "        self.ystretch = ystretch\n",
    "        \n",
    "    def getStretchMatrix(self):\n",
    "        return np.array([[self.xstretch, 0], [0, self.ystretch]])\n",
    "        \n",
    "    def checkValid(self, num):\n",
    "         try:\n",
    "           val = float(num)\n",
    "         except ValueError:\n",
    "           print(num , \" is invalid. Please choose a number. \")\n",
    "           exit()\n",
    "            \n",
    "class ShapeGenerator():\n",
    "    # 1 = x^2 - y^2 - y^2 = 1 - x^2 y = sqrt(1-x^2)\n",
    "    def generateCircle(t):\n",
    "        return np.array([math.sin(t) , math.cos(t)])\n",
    "    \n",
    "    def generateWaveForms(t):\n",
    "        return np.array([math.cos(t),  math.sin(t)]); \n",
    "    \n",
    "    def generateLine(t):\n",
    "        return np.array([t, t]); \n"
   ]
  },
  {
   "cell_type": "code",
   "execution_count": 346,
   "metadata": {
    "collapsed": false
   },
   "outputs": [
    {
     "name": "stdout",
     "output_type": "stream",
     "text": [
      "-----------------\n",
      "[[ 0.57608121 -0.81739246]\n",
      " [ 0.81739246  0.57608121]]\n",
      "-----------------\n",
      "[[-0.7760534 -0.6306672]\n",
      " [ 0.6306672 -0.7760534]]\n",
      "-----------------\n"
     ]
    },
    {
     "data": {
      "image/png": "[encoded data removed]",
      "text/plain": [
       "<matplotlib.figure.Figure at 0x10dd85208>"
      ]
     },
     "metadata": {},
     "output_type": "display_data"
    }
   ],
   "source": [
    "   \n",
    "s = Helper.generateRandomBetween(-10,10)\n",
    "perpframes = PerpFrames(s)\n",
    "\n",
    "s = Helper.generateRandomBetween(-1.5,1.5)\n",
    "perpframes2 = PerpFrames(s)\n",
    "\n",
    "print(\"-----------------\")\n",
    "print(perpframes.aligner)\n",
    "print(\"-----------------\")\n",
    "print(perpframes2.hanger)\n",
    "print(\"-----------------\")\n",
    "\n",
    "stretcher = Stretcher()\n",
    "stretcher.setXYStretch(Helper.generateRandomBetween(2.2, 2.7), generateRandomBetween(.6, 1.6))\n",
    "stretchMat = stretcher.getStretchMatrix()\n",
    "\n",
    "x = np.linspace( -math.pi, math.pi, 100)\n",
    "y = np.linspace(-1.0, 1.0, 100)\n",
    "X, Y = np.meshgrid(x,y)\n",
    " \n",
    "pointmatrix = []\n",
    "for val in x:\n",
    "    point = ShapeGenerator.generateCircle(val)\n",
    "    pointmatrix.append(point)\n",
    "    \n",
    "pointmatrix = np.array(pointmatrix).transpose()\n",
    "plt.figure(figsize=(8,8))\n",
    "plt.plot(pointmatrix[0,], pointmatrix[1,], 'ro')\n",
    "\n",
    "stretched = stretchMat.dot(pointmatrix)\n",
    "plt.plot(stretched[0,], stretched[1,], 'ro', color = 'blue')\n",
    "\n",
    "plt.show()"
   ]
  },
  {
   "cell_type": "code",
   "execution_count": null,
   "metadata": {
    "collapsed": true
   },
   "outputs": [],
   "source": []
  }
 ],
 "metadata": {
  "kernelspec": {
   "display_name": "Python 3",
   "language": "python",
   "name": "python3"
  },
  "language_info": {
   "codemirror_mode": {
    "name": "ipython",
    "version": 3
   },
   "file_extension": ".py",
   "mimetype": "text/x-python",
   "name": "python",
   "nbconvert_exporter": "python",
   "pygments_lexer": "ipython3",
   "version": "3.6.0"
  }
 },
 "nbformat": 4,
 "nbformat_minor": 2
}
