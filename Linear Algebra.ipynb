{
 "cells": [
  {
   "cell_type": "code",
   "execution_count": 333,
   "metadata": {
    "collapsed": false
   },
   "outputs": [],
   "source": [
    "import numpy as np\n",
    "import scipy as sc\n",
    "import random as r\n",
    "import math\n",
    "import matplotlib.pyplot as plt\n",
    "\n",
    "class Helper():\n",
    "    \n",
    "    @staticmethod\n",
    "    def generateRandomBetween(a, b):\n",
    "        return (r.random() * (b - a) + 1)\n",
    "\n",
    "class PerpFrames():\n",
    "    \n",
    "    def __init__(self, s):\n",
    "        self.alignerframe(s)\n",
    "        self.alignerframe2(s)\n",
    "        self.aligner = np.array([self.alignerframe, self.alignerframe2])\n",
    "        self.hanger = np.array([self.alignerframe, self.alignerframe2]).transpose()\n",
    "\n",
    "        \n",
    "    def alignerframe(self, s):\n",
    "        self.alignerframe = np.array([math.cos(s), math.sin(s)])\n",
    "        \n",
    "    \n",
    "    def alignerframe2(self, s):\n",
    "        self.alignerframe2 = np.array([math.cos(s + (math.pi / 2)),math.sin(s + (math.pi/2))])\n",
    "        \n",
    "\n",
    "class Stretcher():\n",
    "    \n",
    "    def setXYStretch(self, xstretch, ystretch):\n",
    "        self.setXStretch(xstretch)\n",
    "        self.setYStretch(ystretch)\n",
    "        \n",
    "    def setXStretch(self, xstretch):\n",
    "        self.checkValid(xstretch)\n",
    "        self.xstretch = xstretch\n",
    "        \n",
    "    def setYStretch(self, ystretch):\n",
    "        self.checkValid(ystretch)\n",
    "        self.ystretch = ystretch\n",
    "        \n",
    "    def getStretchMatrix(self):\n",
    "        return np.array([[self.xstretch, 0], [0, self.ystretch]])\n",
    "        \n",
    "    def checkValid(self, num):\n",
    "         try:\n",
    "           val = float(num)\n",
    "         except ValueError:\n",
    "           print(num , \" is invalid. Please choose a number. \")\n",
    "           exit()\n",
    "            \n",
    "class ShapeGenerator():\n",
    "    # 1 = x^2 - y^2 - y^2 = 1 - x^2 y = sqrt(1-x^2)\n",
    "    def generateCircle(t):\n",
    "        return np.array([math.sin(t) , math.cos(t)])\n",
    "    \n",
    "    def generateWaveForms(t):\n",
    "        return np.array([math.cos(t),  math.sin(t)]); \n",
    "    \n",
    "    def generateLine(t):\n",
    "        return np.array([t, t]); \n"
   ]
  },
  {
   "cell_type": "code",
   "execution_count": 371,
   "metadata": {
    "collapsed": false
   },
   "outputs": [
    {
     "ename": "TypeError",
     "evalue": "must be real number, not tuple",
     "output_type": "error",
     "traceback": [
      "\u001b[0;31m---------------------------------------------------------------------------\u001b[0m",
      "\u001b[0;31mTypeError\u001b[0m                                 Traceback (most recent call last)",
      "\u001b[0;32m<ipython-input-371-1b83464a1f60>\u001b[0m in \u001b[0;36m<module>\u001b[0;34m()\u001b[0m\n\u001b[1;32m     44\u001b[0m \u001b[0max\u001b[0m \u001b[0;34m=\u001b[0m \u001b[0mplt\u001b[0m\u001b[0;34m.\u001b[0m\u001b[0mgca\u001b[0m\u001b[0;34m(\u001b[0m\u001b[0;34m)\u001b[0m\u001b[0;34m\u001b[0m\u001b[0m\n\u001b[1;32m     45\u001b[0m \u001b[0;31m# recompute the ax.dataLim\u001b[0m\u001b[0;34m\u001b[0m\u001b[0;34m\u001b[0m\u001b[0m\n\u001b[0;32m---> 46\u001b[0;31m \u001b[0mprint\u001b[0m\u001b[0;34m(\u001b[0m\u001b[0mmax\u001b[0m\u001b[0;34m(\u001b[0m\u001b[0mmath\u001b[0m\u001b[0;34m.\u001b[0m\u001b[0mfabs\u001b[0m\u001b[0;34m(\u001b[0m\u001b[0mplt\u001b[0m\u001b[0;34m.\u001b[0m\u001b[0mxlim\u001b[0m\u001b[0;34m(\u001b[0m\u001b[0;34m)\u001b[0m\u001b[0;34m)\u001b[0m\u001b[0;34m)\u001b[0m\u001b[0;34m)\u001b[0m\u001b[0;34m\u001b[0m\u001b[0m\n\u001b[0m\u001b[1;32m     47\u001b[0m \u001b[0;31m#show the graph\u001b[0m\u001b[0;34m\u001b[0m\u001b[0;34m\u001b[0m\u001b[0m\n\u001b[1;32m     48\u001b[0m \u001b[0;31m#plt.show()\u001b[0m\u001b[0;34m\u001b[0m\u001b[0;34m\u001b[0m\u001b[0m\n",
      "\u001b[0;31mTypeError\u001b[0m: must be real number, not tuple"
     ]
    }
   ],
   "source": [
    "#setup   \n",
    "s = Helper.generateRandomBetween(-10,10)\n",
    "perpframes = PerpFrames(s)\n",
    "s = Helper.generateRandomBetween(-1.5,1.5)\n",
    "perpframes2 = PerpFrames(s)\n",
    "\n",
    "#get stretcher matrix\n",
    "stretcher = Stretcher()\n",
    "stretcher.setXYStretch(Helper.generateRandomBetween(2.2, 2.7), generateRandomBetween(.6, 1.6))\n",
    "stretchMat = stretcher.getStretchMatrix()\n",
    "\n",
    "\n",
    "#generate points\n",
    "x = np.linspace( -math.pi, math.pi, 100)\n",
    " \n",
    "pointmatrix = []\n",
    "for val in x:\n",
    "    point = ShapeGenerator.generateCircle(val)\n",
    "    pointmatrix.append(point)\n",
    "pointmatrix = np.array(pointmatrix).transpose()\n",
    "\n",
    "#draw a circle\n",
    "plt.figure(figsize=(8,8))\n",
    "plt.plot(pointmatrix[0,], pointmatrix[1,], 'ro')\n",
    "\n",
    "#stretch the circle\n",
    "stretched = stretchMat.dot(pointmatrix)\n",
    "plt.plot(stretched[0,], stretched[1,], 'ro', color = 'blue')\n",
    "\n",
    "#hang it\n",
    "hung = perpframes2.hanger.dot(stretched)\n",
    "plt.plot(hung[0,], hung[1,], 'ro', color = 'green')\n",
    "\n",
    "#align it\n",
    "aligned = perpframes.hanger.dot(stretched)\n",
    "plt.plot(aligned[0,], aligned[1,], 'ro', color = 'orange')\n",
    "\n",
    "#draw perp frames\n",
    "\n",
    "soa = np.array([[0, 0, 3, 2], [0, 0, 1, 1], [0, 0, 9, 9]])\n",
    "X, Y, U, V = zip(*soa)\n",
    "\n",
    "#rescale graph to make sure x and y are the same height and width\n",
    "\n",
    "plt.draw()\n",
    "\n",
    "# recompute the ax.dataLim\n",
    "print(max(math.fabs(plt.xlim())))\n",
    "#show the graph\n",
    "#plt.show()"
   ]
  },
  {
   "cell_type": "code",
   "execution_count": null,
   "metadata": {
    "collapsed": true
   },
   "outputs": [],
   "source": []
  }
 ],
 "metadata": {
  "kernelspec": {
   "display_name": "Python 3",
   "language": "python",
   "name": "python3"
  },
  "language_info": {
   "codemirror_mode": {
    "name": "ipython",
    "version": 3
   },
   "file_extension": ".py",
   "mimetype": "text/x-python",
   "name": "python",
   "nbconvert_exporter": "python",
   "pygments_lexer": "ipython3",
   "version": "3.6.0"
  }
 },
 "nbformat": 4,
 "nbformat_minor": 2
}
